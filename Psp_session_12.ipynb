{
  "nbformat": 4,
  "nbformat_minor": 0,
  "metadata": {
    "colab": {
      "name": "Psp session 12.ipynb",
      "provenance": [],
      "collapsed_sections": [],
      "authorship_tag": "ABX9TyPkPQyx3Z41RH7RM6K98nj5",
      "include_colab_link": true
    },
    "kernelspec": {
      "name": "python3",
      "display_name": "Python 3"
    }
  },
  "cells": [
    {
      "cell_type": "markdown",
      "metadata": {
        "id": "view-in-github",
        "colab_type": "text"
      },
      "source": [
        "<a href=\"https://colab.research.google.com/github/manishahc/Class-Assignment-1---Getting-Started-with-Python-Programming/blob/master/Psp_session_12.ipynb\" target=\"_parent\"><img src=\"https://colab.research.google.com/assets/colab-badge.svg\" alt=\"Open In Colab\"/></a>"
      ]
    },
    {
      "cell_type": "code",
      "metadata": {
        "colab": {
          "base_uri": "https://localhost:8080/"
        },
        "id": "0Gc73ga6bGgF",
        "outputId": "bfc2a059-3943-4916-d7c1-133e2cb87007"
      },
      "source": [
        "#Q1\n",
        " \n",
        "sum =0\n",
        "sum1 =0\n",
        "avg =0\n",
        "avg1 =0\n",
        "neg =0\n",
        "pos =0\n",
        "for i in range(4):\n",
        "   i = int(input(\"Enter the no: \"))\n",
        "   if i < 0:\n",
        "      neg +=1\n",
        "      sum += i\n",
        "      avg = sum/neg\n",
        "   else: \n",
        "      pos +=1\n",
        "      sum1 += i\n",
        "      avg1 = sum1/pos\n",
        "print(\"The sum and average of negative numbers are \", (sum,avg))\n",
        "print(\"The sum and average of positive numbers are \", (sum1,avg1))"
      ],
      "execution_count": 37,
      "outputs": [
        {
          "output_type": "stream",
          "text": [
            "Enter the no: -4\n",
            "Enter the no: -5\n",
            "Enter the no: 2\n",
            "Enter the no: 7\n",
            "The sum and average of negative numbers are  (-9, -4.5)\n",
            "The sum and average of positive numbers are  (9, 4.5)\n"
          ],
          "name": "stdout"
        }
      ]
    },
    {
      "cell_type": "code",
      "metadata": {
        "colab": {
          "base_uri": "https://localhost:8080/"
        },
        "id": "90gNXfO0TOYF",
        "outputId": "88bb87ab-a774-4818-8b76-53783e44f94d"
      },
      "source": [
        "#Q2\n",
        " \n",
        "def list_of_frequency(str):\n",
        "    dict ={}\n",
        "    for i in str:\n",
        "        keys=dict.keys()\n",
        "        if i in keys:\n",
        "            dict[i]+=1\n",
        "        else:\n",
        "            dict[i]=1\n",
        "    return dict\n",
        "print(list_of_frequency('python'))"
      ],
      "execution_count": 18,
      "outputs": [
        {
          "output_type": "stream",
          "text": [
            "{'p': 1, 'y': 1, 't': 1, 'h': 1, 'o': 1, 'n': 1}\n"
          ],
          "name": "stdout"
        }
      ]
    },
    {
      "cell_type": "code",
      "metadata": {
        "colab": {
          "base_uri": "https://localhost:8080/"
        },
        "id": "N5XlJw8fe5AF",
        "outputId": "d7bc5e76-1351-4e4a-8062-166830ed0261"
      },
      "source": [
        "#Q3\n",
        "list = []\n",
        "num = int(input(\"Enter the total number of list elements: \"))\n",
        "for i in range(1, num + 1):\n",
        "    value = int(input(\"Enter the elements:\"))\n",
        "    list.append(value)\n",
        "for i in range (num):\n",
        "    for j in range(i + 1, num):\n",
        "        if(list[i] >list[j]):\n",
        "            temp = list[i]\n",
        "            list[i] = list[j]\n",
        "            list[j] = temp\n",
        "print(\"Elements after sorting list in ascending order is : \", list)"
      ],
      "execution_count": 41,
      "outputs": [
        {
          "output_type": "stream",
          "text": [
            "Enter the total number of list elements: 5\n",
            "Enter the elements:77\n",
            "Enter the elements:-15\n",
            "Enter the elements:56\n",
            "Enter the elements:0\n",
            "Enter the elements:-8\n",
            "Elements after sorting list in ascending order is :  [-15, -8, 0, 56, 77]\n"
          ],
          "name": "stdout"
        }
      ]
    },
    {
      "cell_type": "code",
      "metadata": {
        "id": "C2sw2Q7VIhMs",
        "colab": {
          "base_uri": "https://localhost:8080/"
        },
        "outputId": "6bac2f22-a6dd-4c0c-f5d2-4c4aecbfc386"
      },
      "source": [
        "#Q4\n",
        " \n",
        "def isPalindrome(s):\n",
        "    return s == s[::-1]\n",
        "s = \"malayalam\"\n",
        "ans = isPalindrome(s) \n",
        "if ans:\n",
        "    print(\"Yes\")\n",
        "else:\n",
        "    print(\"No\")"
      ],
      "execution_count": 27,
      "outputs": [
        {
          "output_type": "stream",
          "text": [
            "Yes\n"
          ],
          "name": "stdout"
        }
      ]
    },
    {
      "cell_type": "code",
      "metadata": {
        "id": "y4nzgH_cIijT",
        "colab": {
          "base_uri": "https://localhost:8080/"
        },
        "outputId": "0cd389bb-58eb-4594-aa53-f47521dc17bd"
      },
      "source": [
        "#Q5\n",
        "import math \n",
        "def cal_sin(n): \n",
        "    accuracy = 0.0001; \n",
        "    n = n * (math.pi / 180.0);  \n",
        "    x1 = n;\n",
        "    sinx = n;      \n",
        "    sinval = math.sin(n);  \n",
        "    i = 1; \n",
        "    while(True):\n",
        "        denominator = 2 * i * (2 * i + 1); \n",
        "        x1 = -x1 * n * n / denominator; \n",
        "        sinx = sinx + x1; \n",
        "        i = i + 1; \n",
        "        if(accuracy <= abs(sinval - sinx)): \n",
        "            break; \n",
        "    print(round(sinx)); \n",
        "n = 90; \n",
        "cal_sin(n);"
      ],
      "execution_count": 21,
      "outputs": [
        {
          "output_type": "stream",
          "text": [
            "1\n"
          ],
          "name": "stdout"
        }
      ]
    },
    {
      "cell_type": "code",
      "metadata": {
        "id": "pMLm0fnvIj4F",
        "colab": {
          "base_uri": "https://localhost:8080/"
        },
        "outputId": "ecdda0a0-f55f-4324-8162-a83110496d4c"
      },
      "source": [
        "#Q6\n",
        " \n",
        "password  = input(\" ENTER THE PASSWORD = \")\n",
        "a=0 \n",
        "a1=0\n",
        "a2=0\n",
        "a3 =0\n",
        "num = list(map(str,range(0,10)))\n",
        "if len(password) < 6:\n",
        "   print(\"Password length is too short. Minimum length of password should be 6\")\n",
        "else:\n",
        "  for i in password:\n",
        "     if i.isupper() == True:\n",
        "        a +=1\n",
        "     elif i in num:\n",
        "        a1 +=1\n",
        "     elif i.islower() == True:\n",
        "        a2 +=1\n",
        "     elif i ==\"$\" or i ==\"#\" or i == \"@\":\n",
        "        a3 +=1\n",
        "if a >= 1 and a1 >= 1 and a2 >= 1 and a3>=1:\n",
        "    print(\"Password accepted\")\n",
        "else: \n",
        "    print(\"Password not accepted\")"
      ],
      "execution_count": 38,
      "outputs": [
        {
          "output_type": "stream",
          "text": [
            " ENTER THE PASSWORD = Anna@07\n",
            "Password accepted\n"
          ],
          "name": "stdout"
        }
      ]
    }
  ]
}