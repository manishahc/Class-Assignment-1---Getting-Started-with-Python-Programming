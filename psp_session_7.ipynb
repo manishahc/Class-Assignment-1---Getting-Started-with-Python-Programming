{
  "nbformat": 4,
  "nbformat_minor": 0,
  "metadata": {
    "colab": {
      "name": "psp session 7.ipynb",
      "provenance": [],
      "authorship_tag": "ABX9TyNwMx4B6NKn5xRBcZ5A6lSa",
      "include_colab_link": true
    },
    "kernelspec": {
      "name": "python3",
      "display_name": "Python 3"
    }
  },
  "cells": [
    {
      "cell_type": "markdown",
      "metadata": {
        "id": "view-in-github",
        "colab_type": "text"
      },
      "source": [
        "<a href=\"https://colab.research.google.com/github/manishahc/Class-Assignment-1---Getting-Started-with-Python-Programming/blob/master/psp_session_7.ipynb\" target=\"_parent\"><img src=\"https://colab.research.google.com/assets/colab-badge.svg\" alt=\"Open In Colab\"/></a>"
      ]
    },
    {
      "cell_type": "code",
      "metadata": {
        "colab": {
          "base_uri": "https://localhost:8080/"
        },
        "id": "ox_ondH5Z7WU",
        "outputId": "9d754409-960b-4e47-d472-9115a64eeea4"
      },
      "source": [
        "#3a\r\n",
        "f = open(\"text.dat\",\"w\")\r\n",
        "m = \"Its a sunny day\"\r\n",
        "m1 = \" It's a good day \"\r\n",
        "m2 = \"Good Morning\"\r\n",
        "f.write(m)\r\n",
        "f.write(m1)\r\n",
        "f = open(\"text.dat\",\"r\")\r\n",
        "n1 = f.read()\r\n",
        "n = n1.replace(m,m2)\r\n",
        "print(n)\r\n",
        "f = open(\"text.dat\",\"w\")\r\n",
        "f.write(n)"
      ],
      "execution_count": 20,
      "outputs": [
        {
          "output_type": "stream",
          "text": [
            "Good Morning It's a good day \n"
          ],
          "name": "stdout"
        },
        {
          "output_type": "execute_result",
          "data": {
            "text/plain": [
              "29"
            ]
          },
          "metadata": {
            "tags": []
          },
          "execution_count": 20
        }
      ]
    },
    {
      "cell_type": "code",
      "metadata": {
        "colab": {
          "base_uri": "https://localhost:8080/"
        },
        "id": "CC4e_M2bVx7_",
        "outputId": "78c2ab8c-aa1c-4cf1-a36c-1ce7f2a82d65"
      },
      "source": [
        "#3b\r\n",
        "f1 = open(\"text.dat\",\"w\")\r\n",
        "f1.write(\"problem solving with python\")\r\n",
        "f1 = open(\"text.dat\",\"r\")\r\n",
        "m = f1.read()\r\n",
        "f2 = open(\"text2.dat\",\"w\")\r\n",
        "f2.write(\"\\nis a subject for CS department.\")\r\n",
        "f2 = open(\"text2.dat\",\"r\")\r\n",
        "n = f2.read()\r\n",
        "a = m + n\r\n",
        "f = open(\"new.dat\",\"w\")\r\n",
        "f.write(a)\r\n",
        "f = open(\"new.dat\",\"r\")\r\n",
        "print(f.read())"
      ],
      "execution_count": 15,
      "outputs": [
        {
          "output_type": "stream",
          "text": [
            "problem solving with python \n",
            "is a subject for CS department.\n"
          ],
          "name": "stdout"
        }
      ]
    },
    {
      "cell_type": "code",
      "metadata": {
        "colab": {
          "base_uri": "https://localhost:8080/"
        },
        "id": "WLhghK_cV0j1",
        "outputId": "aa1fbd64-9f50-4ffa-f4b6-64725461093b"
      },
      "source": [
        "#4a\r\n",
        "f = open(\"text.dat\",\"w\")\r\n",
        "f.write(\"Hello good morning.\")\r\n",
        "f.write(\"\\nHow are you?\")\r\n",
        "f.close()\r\n",
        "f = open(\"text.dat\",\"r\")\r\n",
        "a =0\r\n",
        "for line in f:\r\n",
        "   a+=1\r\n",
        "print(\"number of lines = \",a)"
      ],
      "execution_count": 17,
      "outputs": [
        {
          "output_type": "stream",
          "text": [
            "number of lines =  2\n"
          ],
          "name": "stdout"
        }
      ]
    },
    {
      "cell_type": "code",
      "metadata": {
        "colab": {
          "base_uri": "https://localhost:8080/"
        },
        "id": "2FLdl1ETV04V",
        "outputId": "d283185f-a5eb-45e5-8ce3-0cb4e7d04ff5"
      },
      "source": [
        "#4b\r\n",
        "f = open(\"txt.dat\",\"w\")\r\n",
        "word = \"pen pencil kite pen eraser pencil pen kite pen scale pencil\"\r\n",
        "f.write(word)\r\n",
        "f = open(\"txt.dat\",\"r\")\r\n",
        "c = f.read()\r\n",
        "c = c.split(\" \")\r\n",
        "word1 =[]\r\n",
        "for i in c:\r\n",
        "  if i not in word1:\r\n",
        "     word1.append(i)\r\n",
        "for i in range(0,len(word1)):\r\n",
        "   print(\" Frequency of the \",word1[i],\" is \",c.count(word1[i]))"
      ],
      "execution_count": 19,
      "outputs": [
        {
          "output_type": "stream",
          "text": [
            " Frequency of the  pen  is  4\n",
            " Frequency of the  pencil  is  3\n",
            " Frequency of the  kite  is  2\n",
            " Frequency of the  eraser  is  1\n",
            " Frequency of the  scale  is  1\n"
          ],
          "name": "stdout"
        }
      ]
    }
  ]
}