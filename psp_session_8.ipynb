{
  "nbformat": 4,
  "nbformat_minor": 0,
  "metadata": {
    "colab": {
      "name": "psp session 8.ipynb",
      "provenance": [],
      "collapsed_sections": [],
      "authorship_tag": "ABX9TyPJdvR5gp9gimNmZhN5Pj/f",
      "include_colab_link": true
    },
    "kernelspec": {
      "name": "python3",
      "display_name": "Python 3"
    }
  },
  "cells": [
    {
      "cell_type": "markdown",
      "metadata": {
        "id": "view-in-github",
        "colab_type": "text"
      },
      "source": [
        "<a href=\"https://colab.research.google.com/github/manishahc/Class-Assignment-1---Getting-Started-with-Python-Programming/blob/master/psp_session_8.ipynb\" target=\"_parent\"><img src=\"https://colab.research.google.com/assets/colab-badge.svg\" alt=\"Open In Colab\"/></a>"
      ]
    },
    {
      "cell_type": "code",
      "metadata": {
        "colab": {
          "base_uri": "https://localhost:8080/"
        },
        "id": "4VRV--09UV0I",
        "outputId": "ecf85786-c9a6-45cc-995c-1708042baa06"
      },
      "source": [
        "#Q1\n",
        "def sum():\n",
        "   m = lambda a : a+15\n",
        "   print(\"Sum is\",m(10))\n",
        "def product():\n",
        "   n = lambda x,y : x*y\n",
        "   print(\"Product is\",n(3,4))\n",
        "sum()\n",
        "product()"
      ],
      "execution_count": null,
      "outputs": [
        {
          "output_type": "stream",
          "text": [
            "Sum is 25\n",
            "Product is 12\n"
          ],
          "name": "stdout"
        }
      ]
    },
    {
      "cell_type": "code",
      "metadata": {
        "colab": {
          "base_uri": "https://localhost:8080/"
        },
        "id": "FdNLNSJr6nPk",
        "outputId": "ccbaa88d-10dc-4fd4-8d1a-c374c0c139b4"
      },
      "source": [
        "#Q2\n",
        "def Max(list):\n",
        "    if len(list) == 1:\n",
        "        return list[0]\n",
        "    else:\n",
        "        n = Max(list[1:])\n",
        "        if n > list[0]:\n",
        "            return n \n",
        "        else:\n",
        "            return list[0]\n",
        "list = [87,76,48,95,50,34,27]\n",
        "print(\"The largest number in the list is\",Max(list))"
      ],
      "execution_count": null,
      "outputs": [
        {
          "output_type": "stream",
          "text": [
            "The largest number in the list is 95\n"
          ],
          "name": "stdout"
        }
      ]
    },
    {
      "cell_type": "code",
      "metadata": {
        "colab": {
          "base_uri": "https://localhost:8080/"
        },
        "id": "t_9OQKyL2Ve7",
        "outputId": "dfbb8718-1d9e-43cb-c2f2-b18e34c098d0"
      },
      "source": [
        "#Q3\n",
        "x=input(\"Enter the elements of list \")\n",
        "list=x.split()\n",
        "n=len(list)\n",
        "sum=0\n",
        "avg=0\n",
        "for i in list:\n",
        "   sum+=int(i) \n",
        "   avg=sum/n\n",
        "print(\"Average of elements in the list are\",avg)"
      ],
      "execution_count": null,
      "outputs": [
        {
          "output_type": "stream",
          "text": [
            "Enter the elements of list 2 4 6\n",
            "Average of elements in the list are 4.0\n"
          ],
          "name": "stdout"
        }
      ]
    },
    {
      "cell_type": "code",
      "metadata": {
        "colab": {
          "base_uri": "https://localhost:8080/"
        },
        "id": "ImcQFVL_h_2i",
        "outputId": "7925a26c-4b23-4e63-fb67-d66ebd948fa0"
      },
      "source": [
        "#Q4\n",
        "mylist = ['m','n']\n",
        "n = 3\n",
        "newlist = ['{}{}'.format(x,y) for y in range(1,n+1) for x in mylist]\n",
        "print(\"Concatenated list is\",newlist)"
      ],
      "execution_count": null,
      "outputs": [
        {
          "output_type": "stream",
          "text": [
            "Concatenated list is ['m1', 'n1', 'm2', 'n2', 'm3', 'n3']\n"
          ],
          "name": "stdout"
        }
      ]
    },
    {
      "cell_type": "code",
      "metadata": {
        "colab": {
          "base_uri": "https://localhost:8080/"
        },
        "id": "3Z2t89iViSev",
        "outputId": "0adf2fb6-e02c-4001-9f38-a7a25c7a3859"
      },
      "source": [
        "#Q5\n",
        "def fibo(n):\n",
        "   if n <= 1:\n",
        "       return n\n",
        "   else:\n",
        "       return(fibo(n-1) + fibo(n-2))\n",
        "n = 5\n",
        "if nterms <= 0:\n",
        "   print(\"Enter a positive integer\")\n",
        "else:\n",
        "   print(\"Fibonacci (\",n,\") = \",fibo(n))"
      ],
      "execution_count": null,
      "outputs": [
        {
          "output_type": "stream",
          "text": [
            "Fibonacci ( 5 ) =  5\n"
          ],
          "name": "stdout"
        }
      ]
    },
    {
      "cell_type": "code",
      "metadata": {
        "colab": {
          "base_uri": "https://localhost:8080/"
        },
        "id": "TbJCjMlkiqRA",
        "outputId": "8a1e9009-7fde-4873-d1b6-6441006b56b1"
      },
      "source": [
        "#Q6\n",
        "def sum(n):\n",
        "   if n <= 1:\n",
        "       return n\n",
        "   else:\n",
        "       return n + sum(n-1)\n",
        "num = 10\n",
        "if num < 0:\n",
        "   print(\"Enter a positive number\")\n",
        "else:\n",
        "   print(\"The sum is\",sum(num))"
      ],
      "execution_count": null,
      "outputs": [
        {
          "output_type": "stream",
          "text": [
            "The sum is 55\n"
          ],
          "name": "stdout"
        }
      ]
    },
    {
      "cell_type": "code",
      "metadata": {
        "colab": {
          "base_uri": "https://localhost:8080/"
        },
        "id": "iKfHjO-_jUw3",
        "outputId": "2f5e329e-cda0-4e62-ee0d-4dc1a41c7a87"
      },
      "source": [
        "#Q7\n",
        "def factorial(n):\n",
        "   if n == 1:\n",
        "       return n\n",
        "   else:\n",
        "       return n*factorial(n-1)\n",
        "num = 5\n",
        "if num < 0:\n",
        "   print(\"Factorial does not exist for negative numbers\")\n",
        "elif num == 0:\n",
        "   print(\"The factorial of 0 is 1\")\n",
        "else:\n",
        "   print(\"The factorial of\", num, \"is\", factorial(num))"
      ],
      "execution_count": null,
      "outputs": [
        {
          "output_type": "stream",
          "text": [
            "The factorial of 5 is 120\n"
          ],
          "name": "stdout"
        }
      ]
    }
  ]
}