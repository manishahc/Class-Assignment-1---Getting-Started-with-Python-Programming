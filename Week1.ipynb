{
  "nbformat": 4,
  "nbformat_minor": 0,
  "metadata": {
    "colab": {
      "name": "Week1.ipynb",
      "provenance": [],
      "authorship_tag": "ABX9TyPAQdMFsV17MJ19p6cl+8F6",
      "include_colab_link": true
    },
    "kernelspec": {
      "name": "python3",
      "display_name": "Python 3"
    }
  },
  "cells": [
    {
      "cell_type": "markdown",
      "metadata": {
        "id": "view-in-github",
        "colab_type": "text"
      },
      "source": [
        "<a href=\"https://colab.research.google.com/github/manishahc/Class-Assignment-1---Getting-Started-with-Python-Programming/blob/master/Week1.ipynb\" target=\"_parent\"><img src=\"https://colab.research.google.com/assets/colab-badge.svg\" alt=\"Open In Colab\"/></a>"
      ]
    },
    {
      "cell_type": "code",
      "metadata": {
        "id": "6V68aqLI0U-3",
        "colab_type": "code",
        "colab": {
          "base_uri": "https://localhost:8080/",
          "height": 102
        },
        "outputId": "048ea382-e670-4652-d2f9-31f5de9283c4"
      },
      "source": [
        "string1 = input(\"Enter the first string: \")\n",
        "print(string1,end = \"\\n\")\n",
        "string2 = input(\"Enter the second string: \")\n",
        "print(string2,end = \"\\n\")\n",
        "print(\"Are both strings equal or not: \",end = \" \")\n",
        "if (string1 == string2):\n",
        "  print(\"Equal\")\n",
        "else:\n",
        "  print(\"Not Equal\")"
      ],
      "execution_count": 7,
      "outputs": [
        {
          "output_type": "stream",
          "text": [
            "Enter the first string: greek\n",
            "greek\n",
            "Enter the second string: GREEK\n",
            "GREEK\n",
            "Are both strings equal or not:  Not Equal\n"
          ],
          "name": "stdout"
        }
      ]
    },
    {
      "cell_type": "code",
      "metadata": {
        "id": "MgIO7Xn06uIC",
        "colab_type": "code",
        "colab": {
          "base_uri": "https://localhost:8080/",
          "height": 68
        },
        "outputId": "edfe97ab-7e95-44e8-cf37-ab89049bff54"
      },
      "source": [
        "a = int(input(\"Enter the first number: \"))\n",
        "b = int(input(\"Enter the second number: \"))\n",
        "sum = a+b\n",
        "print(\"sum = \",sum)"
      ],
      "execution_count": 9,
      "outputs": [
        {
          "output_type": "stream",
          "text": [
            "Enter the first number: 22\n",
            "Enter the second number: 77\n",
            "sum =  99\n"
          ],
          "name": "stdout"
        }
      ]
    },
    {
      "cell_type": "code",
      "metadata": {
        "id": "vK3hvm4I_A18",
        "colab_type": "code",
        "colab": {
          "base_uri": "https://localhost:8080/",
          "height": 51
        },
        "outputId": "441272ce-6267-42db-f570-226497844f4e"
      },
      "source": [
        "number = int(input(\"Enter a number: \"))\n",
        "sqrt = number**0.5\n",
        "print(\"square root: \",sqrt)"
      ],
      "execution_count": 10,
      "outputs": [
        {
          "output_type": "stream",
          "text": [
            "Enter a number: 36\n",
            "square root:  6.0\n"
          ],
          "name": "stdout"
        }
      ]
    },
    {
      "cell_type": "code",
      "metadata": {
        "id": "5ChAj_vEAdh6",
        "colab_type": "code",
        "colab": {
          "base_uri": "https://localhost:8080/",
          "height": 85
        },
        "outputId": "0ab228b9-7264-4dc4-d16d-fc1d9a30ebbe"
      },
      "source": [
        "a = float(input(\"enter the first side: \"))\n",
        "b = float(input(\"enter the second side: \"))\n",
        "c = float(input(\"enter the third side: \"))\n",
        "s = (a+b+c)/2\n",
        "area = (s*(s-a)*(s-b)*(s-c))**0.5\n",
        "print(\"The area of the triangle is \",area)"
      ],
      "execution_count": 12,
      "outputs": [
        {
          "output_type": "stream",
          "text": [
            "enter the first side: 5\n",
            "enter the second side: 6\n",
            "enter the third side: 7\n",
            "The area of the triangle is  14.696938456699069\n"
          ],
          "name": "stdout"
        }
      ]
    },
    {
      "cell_type": "code",
      "metadata": {
        "id": "I4lSUIHFCeJo",
        "colab_type": "code",
        "colab": {
          "base_uri": "https://localhost:8080/",
          "height": 51
        },
        "outputId": "d9cf473c-59ca-4ee2-f335-aa5908fa3f41"
      },
      "source": [
        "celsius = float(input(\"enter the temperature in celsius: \"))\n",
        "fahrenheit = (celsius*9/5)+32\n",
        "print(\"Temperature in fahrenheit is: \",fahrenheit)"
      ],
      "execution_count": 17,
      "outputs": [
        {
          "output_type": "stream",
          "text": [
            "enter the temperature in celsius: 100\n",
            "Temperature in fahrenheit is:  212.0\n"
          ],
          "name": "stdout"
        }
      ]
    },
    {
      "cell_type": "code",
      "metadata": {
        "id": "pvTwZedOEj6F",
        "colab_type": "code",
        "colab": {
          "base_uri": "https://localhost:8080/",
          "height": 51
        },
        "outputId": "a0280d60-1231-4b64-e681-949bfdb32592"
      },
      "source": [
        "num = int(input(\"enter a number: \"))\n",
        "if num > 0:\n",
        "  print(\"{0} is a positive number\".format(num))\n",
        "elif num == 0:\n",
        "  print(\"{0} is zero\".format(num))\n",
        "else:\n",
        "  print(\"{0} is a negative number\".format(num))  "
      ],
      "execution_count": 22,
      "outputs": [
        {
          "output_type": "stream",
          "text": [
            "enter a number: -3\n",
            "-3 is a negative number\n"
          ],
          "name": "stdout"
        }
      ]
    },
    {
      "cell_type": "code",
      "metadata": {
        "id": "WIPWr4o3Gb2W",
        "colab_type": "code",
        "colab": {
          "base_uri": "https://localhost:8080/",
          "height": 85
        },
        "outputId": "d18f3290-ddfb-4535-81b8-a6c1060a52f7"
      },
      "source": [
        "num1 = int(input(\"enter the first number: \"))\n",
        "num2 = int(input(\"enter the second number: \"))\n",
        "num3 = int(input(\"enter the third number: \"))\n",
        "if(num1 > num2) and (num1 > num3):\n",
        "  largest = num1\n",
        "elif(num2 > num1) and (num2 > num3):\n",
        "  largest = num2\n",
        "else:\n",
        "  largest = num3\n",
        "print(\"the largest number is \",largest)   "
      ],
      "execution_count": 24,
      "outputs": [
        {
          "output_type": "stream",
          "text": [
            "enter the first number: 34\n",
            "enter the second number: 22\n",
            "enter the third number: 67\n",
            "the largest number is  67\n"
          ],
          "name": "stdout"
        }
      ]
    }
  ]
}