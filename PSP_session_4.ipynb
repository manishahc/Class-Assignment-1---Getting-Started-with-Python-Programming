{
  "nbformat": 4,
  "nbformat_minor": 0,
  "metadata": {
    "colab": {
      "name": "PSP session 4",
      "provenance": [],
      "collapsed_sections": [],
      "authorship_tag": "ABX9TyPmz7z7JdoUc6iFN59xb2ys",
      "include_colab_link": true
    },
    "kernelspec": {
      "name": "python3",
      "display_name": "Python 3"
    }
  },
  "cells": [
    {
      "cell_type": "markdown",
      "metadata": {
        "id": "view-in-github",
        "colab_type": "text"
      },
      "source": [
        "<a href=\"https://colab.research.google.com/github/manishahc/Class-Assignment-1---Getting-Started-with-Python-Programming/blob/master/PSP_session_4.ipynb\" target=\"_parent\"><img src=\"https://colab.research.google.com/assets/colab-badge.svg\" alt=\"Open In Colab\"/></a>"
      ]
    },
    {
      "cell_type": "code",
      "metadata": {
        "id": "N-xDAoR1bXwp",
        "colab": {
          "base_uri": "https://localhost:8080/"
        },
        "outputId": "3586d6a3-54bc-416d-db79-20014eace816"
      },
      "source": [
        "#Q1\n",
        "import math\n",
        "class circle():\n",
        "    def __init__(self,radius):\n",
        "        self.radius=radius\n",
        "    def area(self):\n",
        "        return math.pi*(self.radius**2)\n",
        "    def perimeter(self):\n",
        "        return 2*math.pi*self.radius\n",
        " \n",
        "r=int(input(\"Enter the radius of circle: \"))\n",
        "obj=circle(r)\n",
        "print(\"Area of circle is \",round(obj.area(),2))\n",
        "print(\"Perimeter of circle is \",round(obj.perimeter(),2))"
      ],
      "execution_count": null,
      "outputs": [
        {
          "output_type": "stream",
          "text": [
            "Enter the radius of circle: 4\n",
            "Area of circle is  50.27\n",
            "Perimeter of circle is  25.13\n"
          ],
          "name": "stdout"
        }
      ]
    },
    {
      "cell_type": "code",
      "metadata": {
        "id": "9AfjziQMgwPF",
        "colab": {
          "base_uri": "https://localhost:8080/"
        },
        "outputId": "53860de0-920e-4930-c0b1-5df8a593ddbb"
      },
      "source": [
        "#Q2\n",
        "class RECTANGLE():\n",
        "    def __init__(self,height,width,x,y):\n",
        "        self.height = height\n",
        "        self.width  = width\n",
        "        self.corner_x = x\n",
        "        self.corner_y = y\n",
        "\n",
        "    def rec_center(self):\n",
        "        cx = (self.corner_x+self.width)/2\n",
        "        cy = (self.corner_y+self.height)/2\n",
        "        return [cx,cy]\n",
        "\n",
        "    def rec_area(self):\n",
        "        return self.height*self.width\n",
        "    \n",
        "    def rec_perimeter(self):\n",
        "        return 2*(self.height + self.width)\n",
        "\n",
        "h = int(input(\"Enter the height of rectangle: \"))\n",
        "w = int(input(\"Enter the width of rectangle: \"))\n",
        "x = int(input(\"Enter the first corner:\"))\n",
        "y = int(input(\"Enter the second corner: \"))\n",
        "obj = RECTANGLE(h,w,x,y)\n",
        "print(\"Center of rectangle is \",obj.rec_center())\n",
        "print(\"Area of rectangle is \",round(obj.rec_area(),2))\n",
        "print(\"Perimeter of rectangle is \",round(obj.rec_perimeter(),2))\n"
      ],
      "execution_count": 14,
      "outputs": [
        {
          "output_type": "stream",
          "text": [
            "Enter the height of rectangle: 2\n",
            "Enter the width of rectangle: 3\n",
            "Enter the first corner:4\n",
            "Enter the second corner: 5\n",
            "Center of rectangle is  [3.5, 3.5]\n",
            "Area of rectangle is  6\n",
            "Perimeter of rectangle is  10\n"
          ],
          "name": "stdout"
        }
      ]
    }
  ]
}