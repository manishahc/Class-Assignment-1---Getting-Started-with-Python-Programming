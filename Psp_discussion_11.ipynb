{
  "nbformat": 4,
  "nbformat_minor": 0,
  "metadata": {
    "colab": {
      "name": "Psp discussion 11",
      "provenance": [],
      "collapsed_sections": [],
      "authorship_tag": "ABX9TyMCyIFbPd+O5kGKEgupNgMD",
      "include_colab_link": true
    },
    "kernelspec": {
      "name": "python3",
      "display_name": "Python 3"
    }
  },
  "cells": [
    {
      "cell_type": "markdown",
      "metadata": {
        "id": "view-in-github",
        "colab_type": "text"
      },
      "source": [
        "<a href=\"https://colab.research.google.com/github/manishahc/Class-Assignment-1---Getting-Started-with-Python-Programming/blob/master/Psp_discussion_11.ipynb\" target=\"_parent\"><img src=\"https://colab.research.google.com/assets/colab-badge.svg\" alt=\"Open In Colab\"/></a>"
      ]
    },
    {
      "cell_type": "code",
      "metadata": {
        "colab": {
          "base_uri": "https://localhost:8080/"
        },
        "id": "_aak9itlt8ft",
        "outputId": "96634a32-db33-4f94-eafd-181c68701de8"
      },
      "source": [
        " #Q1\n",
        "def checkLeapYear(year):\n",
        "    if (year % 4) == 0:\n",
        "        if (year % 100) == 0:\n",
        "            if (year % 400) == 0:\n",
        "                return True\n",
        "            else:\n",
        "                return False\n",
        "        else:\n",
        "             return True\n",
        "    else:\n",
        "        return False \n",
        "year = 2020\n",
        "if (checkLeapYear(year)):\n",
        "    print(year,\"is a Leap Year\")\n",
        "else:\n",
        "    print(year,\"is not a Leap Year\")"
      ],
      "execution_count": null,
      "outputs": [
        {
          "output_type": "stream",
          "text": [
            "2020 is a Leap Year\n"
          ],
          "name": "stdout"
        }
      ]
    },
    {
      "cell_type": "code",
      "metadata": {
        "id": "ZQ_K_Q2x8Hh4",
        "colab": {
          "base_uri": "https://localhost:8080/"
        },
        "outputId": "2bfff4d0-bf6b-4be1-929a-762600c9cee0"
      },
      "source": [
        "#Q2\n",
        " \n",
        "A = [[1,2,3], [4,5,6], [7,8,9]]  \n",
        "B = [[10,11,12], [13,14,15], [16,17,18]]  \n",
        "result = [[0,0,0], [0,0,0], [0,0,0]]  \n",
        "for i in range(len(A)):  \n",
        "   for j in range(len(A[0])):         \n",
        "       result[i][j] = A[i][j]+B[i][j]  \n",
        "print(\"Matrix A + Matrix B is\")\n",
        "for k in result:    \n",
        "   print(k)"
      ],
      "execution_count": null,
      "outputs": [
        {
          "output_type": "stream",
          "text": [
            "Matrix A + Matrix B is\n",
            "[11, 13, 15]\n",
            "[17, 19, 21]\n",
            "[23, 25, 27]\n"
          ],
          "name": "stdout"
        }
      ]
    },
    {
      "cell_type": "code",
      "metadata": {
        "id": "BPj55A1u8Mbt",
        "colab": {
          "base_uri": "https://localhost:8080/"
        },
        "outputId": "a0d82b23-7f30-4177-f63b-a6de6165dba1"
      },
      "source": [
        "#Q3\n",
        " \n",
        "string = input(\"Enter a string:\")\n",
        "revstring = string[::-1]\n",
        "print(\"Reversed string is \",revstring)\n",
        "if(revstring == string):\n",
        "  print(\"This is a palindrome string\")\n",
        "else:\n",
        "  print(\"This is not a palindrome string\")"
      ],
      "execution_count": null,
      "outputs": [
        {
          "output_type": "stream",
          "text": [
            "Enter a string:malayalam\n",
            "Reversed string is  malayalam\n",
            "This is a palindrome string\n"
          ],
          "name": "stdout"
        }
      ]
    },
    {
      "cell_type": "code",
      "metadata": {
        "id": "Vfw1SV1y8-0X",
        "colab": {
          "base_uri": "https://localhost:8080/"
        },
        "outputId": "5f7a1a75-1e2d-4e15-c80e-019188684107"
      },
      "source": [
        "#Q4\n",
        " \n",
        "list1 = [] \n",
        "num = int(input(\"Enter the number of elements in list: \"))\n",
        "for i in range(1, num + 1): \n",
        "    ele = int(input(\"Enter the elements: \")) \n",
        "    list1.append(ele)\n",
        "print(\"Largest element is:\", max(list1))"
      ],
      "execution_count": null,
      "outputs": [
        {
          "output_type": "stream",
          "text": [
            "Enter the number of elements in list: 5\n",
            "Enter the elements: 45\n",
            "Enter the elements: 97\n",
            "Enter the elements: 12\n",
            "Enter the elements: 34\n",
            "Enter the elements: 62\n",
            "Largest element is: 97\n"
          ],
          "name": "stdout"
        }
      ]
    },
    {
      "cell_type": "code",
      "metadata": {
        "id": "4xbgP6lKECCX",
        "colab": {
          "base_uri": "https://localhost:8080/"
        },
        "outputId": "f1165c45-a22c-4f96-f2bf-f5960a525400"
      },
      "source": [
        "#Q5\n",
        " \n",
        "list1=[9,4,5,6,7]\n",
        "list2=[2,11,1,7,9]\n",
        "for x in list1:\n",
        "  for y in list2:\n",
        "     if x==y:\n",
        "        print(x)"
      ],
      "execution_count": 26,
      "outputs": [
        {
          "output_type": "stream",
          "text": [
            "9\n",
            "7\n"
          ],
          "name": "stdout"
        }
      ]
    },
    {
      "cell_type": "code",
      "metadata": {
        "id": "AxdUjb-O9DRE",
        "colab": {
          "base_uri": "https://localhost:8080/"
        },
        "outputId": "059581f6-dc39-49e7-b84e-643726f057a1"
      },
      "source": [
        "#Q6\n",
        "import itertools\n",
        "list1 = [3,6,9]\n",
        "permutations_object = itertools.permutations(list1)\n",
        "permutations_list = list(permutations_object)\n",
        "print(permutations_list)"
      ],
      "execution_count": null,
      "outputs": [
        {
          "output_type": "stream",
          "text": [
            "[(3, 6, 9), (3, 9, 6), (6, 3, 9), (6, 9, 3), (9, 3, 6), (9, 6, 3)]\n"
          ],
          "name": "stdout"
        }
      ]
    }
  ]
}