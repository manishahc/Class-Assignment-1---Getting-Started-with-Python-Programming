{
  "nbformat": 4,
  "nbformat_minor": 0,
  "metadata": {
    "colab": {
      "name": "psp question session 3",
      "provenance": [],
      "collapsed_sections": [],
      "authorship_tag": "ABX9TyP8tWKQRA2xI7HUeqfPbuDc",
      "include_colab_link": true
    },
    "kernelspec": {
      "name": "python3",
      "display_name": "Python 3"
    }
  },
  "cells": [
    {
      "cell_type": "markdown",
      "metadata": {
        "id": "view-in-github",
        "colab_type": "text"
      },
      "source": [
        "<a href=\"https://colab.research.google.com/github/manishahc/Class-Assignment-1---Getting-Started-with-Python-Programming/blob/master/psp_question_session_3.ipynb\" target=\"_parent\"><img src=\"https://colab.research.google.com/assets/colab-badge.svg\" alt=\"Open In Colab\"/></a>"
      ]
    },
    {
      "cell_type": "code",
      "metadata": {
        "colab": {
          "base_uri": "https://localhost:8080/"
        },
        "id": "Pu98kpSKIlFA",
        "outputId": "61006c04-37af-4489-f6c1-88db95c3525b"
      },
      "source": [
        "#Q1\n",
        "class ThreeNumbers():\n",
        "    num=int()\n",
        "    sum_of_num=int()\n",
        "    def _init_(self):\n",
        "        self.num=0\n",
        "        self.sum_of_num=0\n",
        " \n",
        "    def num_input(self):\n",
        "        num = input(\"Enter the number: \")\n",
        "        self.digit_sum(num)\n",
        " \n",
        "    def digit_sum(self,num):\n",
        "        sum_of_num=int(num)\n",
        "        while int(sum_of_num) > 10:\n",
        "            ls_dig = [int(x) for x in str(sum_of_num)]\n",
        "            sum_of_num=sum(ls_dig)\n",
        "            self.num_output(sum_of_num)\n",
        " \n",
        "    def num_output(self,sum_of_num):\n",
        "        print(\"Sum of digits:\",sum_of_num)\n",
        " \n",
        "p=ThreeNumbers()\n",
        "p.num_input()"
      ],
      "execution_count": null,
      "outputs": [
        {
          "output_type": "stream",
          "text": [
            "Enter the number: 1236\n",
            "Sum of digits: 12\n",
            "Sum of digits: 3\n"
          ],
          "name": "stdout"
        }
      ]
    },
    {
      "cell_type": "code",
      "metadata": {
        "colab": {
          "base_uri": "https://localhost:8080/"
        },
        "id": "ALudqFFwIg6R",
        "outputId": "80eaffbc-27de-46b0-f817-efa5d4a6c593"
      },
      "source": [
        "#Q2\n",
        "\n",
        "class Polygon:\n",
        "  def __init__(self,number,name):\n",
        "    self.number = number\n",
        "    self.name = name\n",
        "    self.no_of_sides = []\n",
        "   \n",
        "  def accept_sides(self):\n",
        "    print(self.name)\n",
        "    for i in range(0,self.number):\n",
        "        sides = float(input(\"Enter the side \"+str(i+1)+\" : \")) \n",
        "        self.no_of_sides.append(sides)\n",
        " \n",
        "\n",
        "class Triangle(Polygon):\n",
        "\n",
        "  def __init__(self):\n",
        "    Polygon.__init__(self,3,\"TRIANGLE: \")\n",
        "    \n",
        "  \n",
        "  def display_triarea(self):\n",
        "    a,b,c = self.no_of_sides\n",
        "    s = (a+b+c)/2\n",
        "    area = (s*(s-a)*(s-b)*(s-c))**0.5\n",
        "    print(\"Area of triangle is %.2f \" %area)\n",
        "\n",
        "    \n",
        "class Square(Polygon):\n",
        "\n",
        "  def __init__(self):\n",
        "    Polygon.__init__(self,2,\"SQUARE: \")\n",
        "    \n",
        " \n",
        "  def display_sqrarea(self):\n",
        "    a,b = self.no_of_sides\n",
        "    area = a**2\n",
        "    print(\"Area of square is %.2f \" %area)\n",
        "\n",
        "\n",
        "obj = Triangle()\n",
        "obj.accept_sides()\n",
        "obj.display_triarea()\n",
        "obj1 = Square()\n",
        "obj1.accept_sides()\n",
        "obj1.display_sqrarea()\n",
        "\n",
        "\n",
        "    \n",
        "    \n"
      ],
      "execution_count": 21,
      "outputs": [
        {
          "output_type": "stream",
          "text": [
            "TRIANGLE: \n",
            "Enter the side 1 : 2\n",
            "Enter the side 2 : 3\n",
            "Enter the side 3 : 4\n",
            "Area of triangle is 2.90 \n",
            "SQUARE: \n",
            "Enter the side 1 : 2\n",
            "Enter the side 2 : 2\n",
            "Area of square is 4.00 \n"
          ],
          "name": "stdout"
        }
      ]
    }
  ]
}