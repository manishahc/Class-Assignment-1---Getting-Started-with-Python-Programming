{
  "nbformat": 4,
  "nbformat_minor": 0,
  "metadata": {
    "colab": {
      "name": "programming_exercise_session_18.ipynb",
      "provenance": [],
      "authorship_tag": "ABX9TyPxU/sGMFJ491VtwZJTOJHB",
      "include_colab_link": true
    },
    "kernelspec": {
      "name": "python3",
      "display_name": "Python 3"
    }
  },
  "cells": [
    {
      "cell_type": "markdown",
      "metadata": {
        "id": "view-in-github",
        "colab_type": "text"
      },
      "source": [
        "<a href=\"https://colab.research.google.com/github/manishahc/Class-Assignment-1---Getting-Started-with-Python-Programming/blob/master/programming_exercise_session_18.ipynb\" target=\"_parent\"><img src=\"https://colab.research.google.com/assets/colab-badge.svg\" alt=\"Open In Colab\"/></a>"
      ]
    },
    {
      "cell_type": "markdown",
      "metadata": {
        "id": "wyB5kR0UPH1H"
      },
      "source": [
        "1. write a python program to get the largest number from a list."
      ]
    },
    {
      "cell_type": "code",
      "metadata": {
        "id": "tUtQmhcFO5Pl",
        "outputId": "40d852b8-6de1-44f4-e27a-bbc44582bc5f",
        "colab": {
          "base_uri": "https://localhost:8080/",
          "height": 34
        }
      },
      "source": [
        " \n",
        "list1 = [77,56,34,23,85] \n",
        "list1.sort() \n",
        "print(\"Largest number in the list is:\", list1[-1])"
      ],
      "execution_count": null,
      "outputs": [
        {
          "output_type": "stream",
          "text": [
            "Largest number in the list is: 85\n"
          ],
          "name": "stdout"
        }
      ]
    },
    {
      "cell_type": "markdown",
      "metadata": {
        "id": "BNtustXzPFxO"
      },
      "source": [
        "2. write a python code to search an element in a list."
      ]
    },
    {
      "cell_type": "code",
      "metadata": {
        "id": "5Kn2fia0QMAy",
        "outputId": "2673d6f0-fe9d-4028-db90-7cff0f19b1a6",
        "colab": {
          "base_uri": "https://localhost:8080/",
          "height": 34
        }
      },
      "source": [
        " def search(list,item):\n",
        "  for i in range(len(list)):\n",
        "    if list[i] == item:\n",
        "      return True\n",
        "  return False\n",
        "list = ['korea',2,7,'kite',8] \n",
        "item = 'korea'\n",
        "if search(list,item):\n",
        "  print(\"Found the element in list\")\n",
        "else:\n",
        "  print(\"Not Found\")"
      ],
      "execution_count": null,
      "outputs": [
        {
          "output_type": "stream",
          "text": [
            "Found the element in list\n"
          ],
          "name": "stdout"
        }
      ]
    },
    {
      "cell_type": "markdown",
      "metadata": {
        "id": "QdItpgFPQMz-"
      },
      "source": [
        "3. write a python program to sum all the items in a list."
      ]
    },
    {
      "cell_type": "code",
      "metadata": {
        "id": "-_j_WDbFQwW1",
        "outputId": "2ba89144-bec1-47a3-9e6d-500fe0ed6039",
        "colab": {
          "base_uri": "https://localhost:8080/",
          "height": 34
        }
      },
      "source": [
        " \n",
        "list1 = [3,9,7,2] \n",
        "newlist = sum(list1) \n",
        "print(\"Sum of all numbers in the list: \",newlist)"
      ],
      "execution_count": null,
      "outputs": [
        {
          "output_type": "stream",
          "text": [
            "Sum of all numbers in the list:  21\n"
          ],
          "name": "stdout"
        }
      ]
    },
    {
      "cell_type": "markdown",
      "metadata": {
        "id": "0_KewBaDQwx3"
      },
      "source": [
        "4. write a python program to remove duplicates from a list."
      ]
    },
    {
      "cell_type": "code",
      "metadata": {
        "id": "jjSemb3bQ7YR",
        "outputId": "f09c8e5c-0ab7-42a6-d992-f93a6c5adf59",
        "colab": {
          "base_uri": "https://localhost:8080/",
          "height": 34
        }
      },
      "source": [
        " \n",
        "mylist = [1,3,4,7,4,3,1,2,1]\n",
        "newlist = set(mylist)\n",
        "print(newlist)"
      ],
      "execution_count": null,
      "outputs": [
        {
          "output_type": "stream",
          "text": [
            "{1, 2, 3, 4, 7}\n"
          ],
          "name": "stdout"
        }
      ]
    },
    {
      "cell_type": "markdown",
      "metadata": {
        "id": "4nZVXtSXQ72q"
      },
      "source": [
        "5. write a python function that takes two lists and returns True if they have at least one common member. "
      ]
    },
    {
      "cell_type": "code",
      "metadata": {
        "id": "IUqS5pArRXM9",
        "outputId": "f59a6377-7491-4b08-e21e-ccc27a7aa230",
        "colab": {
          "base_uri": "https://localhost:8080/",
          "height": 34
        }
      },
      "source": [
        " def common_member(list1,list2):\n",
        "  result = False\n",
        "  for i in list1:\n",
        "    for j in list2:\n",
        "      if i==j:\n",
        "        result = True\n",
        "        return result\n",
        "  return result\n",
        "list1 = [1,2,3,4,5] \n",
        "list2 = [5,6,7,8,9]\n",
        "print(common_member(list1,list2))"
      ],
      "execution_count": null,
      "outputs": [
        {
          "output_type": "stream",
          "text": [
            "True\n"
          ],
          "name": "stdout"
        }
      ]
    },
    {
      "cell_type": "markdown",
      "metadata": {
        "id": "lKT4LyM1RXxO"
      },
      "source": [
        "6. write a python program to append a list to the second list. "
      ]
    },
    {
      "cell_type": "code",
      "metadata": {
        "id": "NGg957oSRm6Z",
        "outputId": "f3d1cce7-b806-48b1-d9cb-56bbd4bc8ce2",
        "colab": {
          "base_uri": "https://localhost:8080/",
          "height": 54
        }
      },
      "source": [
        "l1 = [1,2,3]\n",
        "l2 = [\"Korea\",\"France\",\"New York\"]\n",
        "l1.extend(l2)\n",
        "print(\"New list is \",l1)"
      ],
      "execution_count": null,
      "outputs": [
        {
          "output_type": "stream",
          "text": [
            "New list is  [1, 2, 3, 'Korea', 'France', 'New York']\n"
          ],
          "name": "stdout"
        }
      ]
    },
    {
      "cell_type": "markdown",
      "metadata": {
        "id": "8wc8wRi1RnWc"
      },
      "source": [
        "7. write a python program to check if a given number is a composite number or not."
      ]
    },
    {
      "cell_type": "code",
      "metadata": {
        "id": "KWPO48UwR7P7",
        "outputId": "12647c6f-bdee-49a5-a47d-82519c7bdfc2",
        "colab": {
          "base_uri": "https://localhost:8080/",
          "height": 51
        }
      },
      "source": [
        " \n",
        "n=int(input(\"Enter the number: \"))\n",
        "factor=0\n",
        "for i in range(1,n):\n",
        "  if n%i==0:\n",
        "    factor=i\n",
        "if factor>1:\n",
        "  print (\"This is a composite number\")\n",
        "elif n==1:\n",
        "  print (\"The number 1 is neither prime nor composite\")\n",
        "else:\n",
        "  print (\"This is not a composite number\")"
      ],
      "execution_count": null,
      "outputs": [
        {
          "output_type": "stream",
          "text": [
            "Enter the number: 4\n",
            "This is a composite number\n"
          ],
          "name": "stdout"
        }
      ]
    },
    {
      "cell_type": "markdown",
      "metadata": {
        "id": "UGgYELJYR7r5"
      },
      "source": [
        "8. write a python code to add two matrices using list."
      ]
    },
    {
      "cell_type": "code",
      "metadata": {
        "id": "bDDBNiEkSM63",
        "outputId": "ce4a8623-ac79-49df-e4ed-55bf967e7a8a",
        "colab": {
          "base_uri": "https://localhost:8080/",
          "height": 68
        }
      },
      "source": [
        " \n",
        "X = [[1,2,3],[4,5,6],[7,8,9]] \n",
        "Y = [[9,8,7],[6,5,4],[3,2,1]] \n",
        "result = [[X[i][j] + Y[i][j]  for j in range\n",
        "(len(X[0]))] for i in range(len(X))] \n",
        "for r in result: \n",
        "    print(r)"
      ],
      "execution_count": null,
      "outputs": [
        {
          "output_type": "stream",
          "text": [
            "[10, 10, 10]\n",
            "[10, 10, 10]\n",
            "[10, 10, 10]\n"
          ],
          "name": "stdout"
        }
      ]
    },
    {
      "cell_type": "markdown",
      "metadata": {
        "id": "lbRQTk_-SNVU"
      },
      "source": [
        "9. write a python program to check if a string is palindrome or not."
      ]
    },
    {
      "cell_type": "code",
      "metadata": {
        "id": "ig8yPk1KSg5L",
        "outputId": "618a426c-1184-4281-fd58-0699bcedecbd",
        "colab": {
          "base_uri": "https://localhost:8080/",
          "height": 51
        }
      },
      "source": [
        "string = input(\"Enter a string:\")\n",
        "revstring = string[::-1]\n",
        "if(revstring == string):\n",
        "    print(\"This is a palindrome string\")\n",
        "else:\n",
        "    print(\"This is not a palindrome string\")"
      ],
      "execution_count": null,
      "outputs": [
        {
          "output_type": "stream",
          "text": [
            "Enter a string:malayalam\n",
            "This is a palindrome string\n"
          ],
          "name": "stdout"
        }
      ]
    },
    {
      "cell_type": "markdown",
      "metadata": {
        "id": "hMRqHxlRShV2"
      },
      "source": [
        "10. write a python program to print multiplication table of a number."
      ]
    },
    {
      "cell_type": "code",
      "metadata": {
        "id": "-oaY3OxkSsbp",
        "outputId": "be4b7a1e-2e88-4297-f546-584eef97f1f4",
        "colab": {
          "base_uri": "https://localhost:8080/",
          "height": 224
        }
      },
      "source": [
        "n = int(input(\"Enter the value\"))\n",
        "i = 1\n",
        "while(i<=10):\n",
        "  print(i,\"*\",n,\"=\",i*n)\n",
        "  i = i+1\n",
        "print()"
      ],
      "execution_count": null,
      "outputs": [
        {
          "output_type": "stream",
          "text": [
            "Enter the value5\n",
            "1 * 5 = 5\n",
            "2 * 5 = 10\n",
            "3 * 5 = 15\n",
            "4 * 5 = 20\n",
            "5 * 5 = 25\n",
            "6 * 5 = 30\n",
            "7 * 5 = 35\n",
            "8 * 5 = 40\n",
            "9 * 5 = 45\n",
            "10 * 5 = 50\n",
            "\n"
          ],
          "name": "stdout"
        }
      ]
    }
  ]
}