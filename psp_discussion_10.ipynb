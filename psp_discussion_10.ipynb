{
  "nbformat": 4,
  "nbformat_minor": 0,
  "metadata": {
    "colab": {
      "name": "psp discussion 10.ipynb",
      "provenance": [],
      "collapsed_sections": [],
      "authorship_tag": "ABX9TyO5xKqi35XM9Fe5JywaQAl9",
      "include_colab_link": true
    },
    "kernelspec": {
      "name": "python3",
      "display_name": "Python 3"
    }
  },
  "cells": [
    {
      "cell_type": "markdown",
      "metadata": {
        "id": "view-in-github",
        "colab_type": "text"
      },
      "source": [
        "<a href=\"https://colab.research.google.com/github/manishahc/Class-Assignment-1---Getting-Started-with-Python-Programming/blob/master/psp_discussion_10.ipynb\" target=\"_parent\"><img src=\"https://colab.research.google.com/assets/colab-badge.svg\" alt=\"Open In Colab\"/></a>"
      ]
    },
    {
      "cell_type": "code",
      "metadata": {
        "colab": {
          "base_uri": "https://localhost:8080/"
        },
        "id": "wyBJC_igVK1q",
        "outputId": "e75977d8-163f-4db4-c588-3ede8692b785"
      },
      "source": [
        "#1. Write a python program to check if a number is armstrong or not.\n",
        " \n",
        "num = int(input(\"Enter a number: \"))\n",
        "sum = 0\n",
        "temp = num\n",
        "while temp > 0:\n",
        "   digit = temp % 10\n",
        "   sum += digit ** 3\n",
        "   temp //= 10\n",
        "if num == sum:\n",
        "   print(num,\"is an Armstrong number\")\n",
        "else:\n",
        "   print(num,\"is not an Armstrong number\")"
      ],
      "execution_count": null,
      "outputs": [
        {
          "output_type": "stream",
          "text": [
            "Enter a number: 370\n",
            "370 is an Armstrong number\n"
          ],
          "name": "stdout"
        }
      ]
    },
    {
      "cell_type": "code",
      "metadata": {
        "id": "7IaJyedZWgx6",
        "colab": {
          "base_uri": "https://localhost:8080/"
        },
        "outputId": "ac04387f-f74c-412b-869a-8e357fd1ab7e"
      },
      "source": [
        "#2. Write a Python program to check whether three given lengths (integers) of three sides form a right triangle. Print \"Yes\" if the given sides form a right triangle otherwise print \"No\".\n",
        " \n",
        "print(\"Input the three sides of triangle\")\n",
        "num = list(map(int,input().split()))\n",
        "a,b,c = sorted(num)\n",
        "if a**2+b**2==c**2:\n",
        "    print('Yes')\n",
        "else:\n",
        "    print('No')"
      ],
      "execution_count": null,
      "outputs": [
        {
          "output_type": "stream",
          "text": [
            "Input the three sides of triangle\n",
            "3 4 5\n",
            "Yes\n"
          ],
          "name": "stdout"
        }
      ]
    },
    {
      "cell_type": "code",
      "metadata": {
        "colab": {
          "base_uri": "https://localhost:8080/"
        },
        "id": "1JLF_e7EWzxe",
        "outputId": "6ca4d766-7c30-4db6-b09f-ccb7ab845820"
      },
      "source": [
        "#3. Write a Python program to print the number of prime numbers which are less than or equal to a given integer.\n",
        " \n",
        "lower=int(input(\"Enter the lower value:\"))\n",
        "upper=int(input(\"Enter the upper value:\"))\n",
        "count=0\n",
        "for n in range(lower,upper+1):\n",
        "   if  n>1:\n",
        "       for i in range(2,n):\n",
        "           if n%i==0:\n",
        "               break\n",
        "       else:\n",
        "           count+=1\n",
        "print(count)"
      ],
      "execution_count": 32,
      "outputs": [
        {
          "output_type": "stream",
          "text": [
            "Enter the lower value:2\n",
            "Enter the upper value:35\n",
            "11\n"
          ],
          "name": "stdout"
        }
      ]
    },
    {
      "cell_type": "code",
      "metadata": {
        "id": "8kEypS0VSPov",
        "colab": {
          "base_uri": "https://localhost:8080/"
        },
        "outputId": "226c2eeb-7043-4f0d-ad9f-6bcd18dd92ec"
      },
      "source": [
        "#4. write a python program to convert Celsius into Fahrenheit. \n",
        "\n",
        "c = float(input(\"Enter the temperature in celsius:\"))\n",
        "f = (c*9/5)+32\n",
        "print(\"%.2f°C is %.2f°F\" %(c,f))"
      ],
      "execution_count": null,
      "outputs": [
        {
          "output_type": "stream",
          "text": [
            "Enter the temperature in celsius:37\n",
            "37.00°C is 98.60°F\n"
          ],
          "name": "stdout"
        }
      ]
    },
    {
      "cell_type": "code",
      "metadata": {
        "colab": {
          "base_uri": "https://localhost:8080/"
        },
        "id": "sz-OseglXoks",
        "outputId": "7b168ae6-62bd-4406-d403-b2b9bd86af84"
      },
      "source": [
        "#5. Write a Python program that will accept the base and height of a triangle and compute the area.\n",
        "b = int(input(\"Input the base : \"))\n",
        "h = int(input(\"Input the height : \"))\n",
        "area = b*h/2\n",
        "print(\"Area of triangle = \",area,\"sq unit\")"
      ],
      "execution_count": null,
      "outputs": [
        {
          "output_type": "stream",
          "text": [
            "Input the base : 3\n",
            "Input the height : 8\n",
            "Area of triangle =  12.0 sq unit\n"
          ],
          "name": "stdout"
        }
      ]
    }
  ]
}