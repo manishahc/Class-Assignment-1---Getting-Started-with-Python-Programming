{
  "nbformat": 4,
  "nbformat_minor": 0,
  "metadata": {
    "colab": {
      "name": "psp session 9.ipynb",
      "provenance": [],
      "collapsed_sections": [],
      "authorship_tag": "ABX9TyOdkhj9OWapTCPFo7fRsbfT",
      "include_colab_link": true
    },
    "kernelspec": {
      "name": "python3",
      "display_name": "Python 3"
    }
  },
  "cells": [
    {
      "cell_type": "markdown",
      "metadata": {
        "id": "view-in-github",
        "colab_type": "text"
      },
      "source": [
        "<a href=\"https://colab.research.google.com/github/manishahc/Class-Assignment-1---Getting-Started-with-Python-Programming/blob/master/psp_session_9.ipynb\" target=\"_parent\"><img src=\"https://colab.research.google.com/assets/colab-badge.svg\" alt=\"Open In Colab\"/></a>"
      ]
    },
    {
      "cell_type": "code",
      "metadata": {
        "colab": {
          "base_uri": "https://localhost:8080/"
        },
        "id": "3LK8EsKYniWJ",
        "outputId": "ae11f83c-9ad9-47c0-ebf4-ee6fbc296b97"
      },
      "source": [
        "#Q8\n",
        "#Write a Python program to check whether a list contains a sublist\n",
        "def sublist(l,s):\n",
        "    sub_set = False\n",
        "    if s == []:\n",
        "        sub_set = True\n",
        "    elif s == l:\n",
        "        sub_set = True\n",
        "    elif len(s) > len(l):\n",
        "        sub_set = False\n",
        "    else:\n",
        "        for i in range(len(l)):\n",
        "            if l[i] == s[0]:\n",
        "                n = 1\n",
        "                while (n < len(s)) and (l[i+n] == s[n]):\n",
        "                    n += 1              \n",
        "                if n == len(s):\n",
        "                    sub_set = True\n",
        "    return sub_set\n",
        "a = [2,6,7,8,9,12,16]\n",
        "b = [9,12]\n",
        "print(sublist(a,b))"
      ],
      "execution_count": null,
      "outputs": [
        {
          "output_type": "stream",
          "text": [
            "True\n"
          ],
          "name": "stdout"
        }
      ]
    },
    {
      "cell_type": "code",
      "metadata": {
        "colab": {
          "base_uri": "https://localhost:8080/"
        },
        "id": "07TGo4A_n-Ma",
        "outputId": "3d0016ac-9e4e-4e04-c9b2-11bb59f7caa9"
      },
      "source": [
        "#Q9\r\n",
        "#Write a Python program to get the frequency of the elements in a list\r\n",
        "import collections\r\n",
        "mylist = [7,7,7,2,2,2,7,7,9,9,9,2]\r\n",
        "ctr = collections.Counter(mylist)\r\n",
        "print(\"Frequency of the elements in the list: \",ctr)"
      ],
      "execution_count": null,
      "outputs": [
        {
          "output_type": "stream",
          "text": [
            "Frequency of the elements in the list:  Counter({7: 5, 2: 4, 9: 3})\n"
          ],
          "name": "stdout"
        }
      ]
    },
    {
      "cell_type": "code",
      "metadata": {
        "colab": {
          "base_uri": "https://localhost:8080/"
        },
        "id": "49ZQDPX2poXI",
        "outputId": "54d9dcac-6527-44f6-fcd6-6ca3859e87fb"
      },
      "source": [
        "#Q10\r\n",
        "#Write a python program to find second largest number in a list\r\n",
        "list = []\r\n",
        "n = int(input(\"Enter the number of elements in the list: \"))\r\n",
        "for i in range(1, n + 1):\r\n",
        "    ele = int(input(\"Enter the elements: \"))\r\n",
        "    list.append(ele)\r\n",
        "print(\"Second largest element is:\", sorted(list)[-2])"
      ],
      "execution_count": null,
      "outputs": [
        {
          "output_type": "stream",
          "text": [
            "Enter the number of elements in the list: 4\n",
            "Enter the elements: 34\n",
            "Enter the elements: 45\n",
            "Enter the elements: 78\n",
            "Enter the elements: 97\n",
            "Second largest element is: 78\n"
          ],
          "name": "stdout"
        }
      ]
    },
    {
      "cell_type": "code",
      "metadata": {
        "colab": {
          "base_uri": "https://localhost:8080/"
        },
        "id": "4Nl2oMpSp2qN",
        "outputId": "30885ea8-79f5-4988-e1c9-b0bd9427255d"
      },
      "source": [
        "#Q11\n",
        "#Write a python program to count the number of elements in a list with in a specific range\n",
        "def count_list(l, min, max):\n",
        "    ctr = 0\n",
        "    for x in l:\n",
        "        if min <= x <= max:\n",
        "            ctr += 1\n",
        "    return ctr\n",
        "list = [5,10,25,30,99,67,54,89,77,57,97]\n",
        "print(count_list(list,50,100))"
      ],
      "execution_count": null,
      "outputs": [
        {
          "output_type": "stream",
          "text": [
            "7\n"
          ],
          "name": "stdout"
        }
      ]
    },
    {
      "cell_type": "code",
      "metadata": {
        "colab": {
          "base_uri": "https://localhost:8080/"
        },
        "id": "BoKXvUT9qdgH",
        "outputId": "c1ecad1e-f5d6-4eb0-f3d2-c45bad118b0f"
      },
      "source": [
        "#Q12\r\n",
        "#Write a Python program to find the second smallest number in a list\r\n",
        "def second_smallest(num):\r\n",
        "  if (len(num)<2):\r\n",
        "    return\r\n",
        "  if ((len(num)==2)  and (num[0] == num[1]) ):\r\n",
        "    return\r\n",
        "  item1 = set()\r\n",
        "  item2 = []\r\n",
        "  for x in num:\r\n",
        "    if x not in item1:\r\n",
        "      item2.append(x)\r\n",
        "      item1.add(x)\r\n",
        "  item2.sort()    \r\n",
        "  return  item2[1]   \r\n",
        "print(second_smallest([2,0,5,6,9,7,4]))"
      ],
      "execution_count": null,
      "outputs": [
        {
          "output_type": "stream",
          "text": [
            "2\n"
          ],
          "name": "stdout"
        }
      ]
    }
  ]
}